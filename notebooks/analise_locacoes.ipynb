{
 "cells": [
  {
   "cell_type": "markdown",
   "metadata": {},
   "source": [
    "# Análise de Locações de Veículos\n",
    "\n",
    "Este notebook realiza a análise, visualização e modelagem preditiva dos dados de locações de veículos.\n",
    "\n",
    "## 1. Introdução e Importações"
   ]
  },
  {
   "cell_type": "code",
   "execution_count": 1,
   "metadata": {},
   "outputs": [],
   "source": [
    "import os\n",
    "import sys\n",
    "import pandas as pd\n",
    "import matplotlib.pyplot as plt\n",
    "import seaborn as sns\n",
    "\n",
    "# Adicionar o diretório 'src' ao sys.path para permitir importações\n",
    "sys.path.append('../src')\n",
    "\n",
    "from data_cleaning import load_data, clean_data, save_data\n",
    "from features import calculate_kpis, print_kpis\n",
    "from models import train_model\n",
    "from utils import plot_correlation_matrix, plot_distribution, plot_histogram\n",
    "\n",
    "# Configurações gerais\n",
    "sns.set(style=\"whitegrid\")\n",
    "results_dir = \"../data/results\"\n",
    "os.makedirs(results_dir, exist_ok=True)"
   ]
  },
  {
   "cell_type": "code",
   "execution_count": 2,
   "metadata": {},
   "outputs": [
    {
     "name": "stdout",
     "output_type": "stream",
     "text": [
      "Primeiras linhas do DataFrame:\n",
      "   id      cidade_nome            estado                bairro    cep  \\\n",
      "0   1       Aldergrove  British Columbia      60 Killdeer Pass    V4W   \n",
      "1   2        Thới Bình               NaN   2543 Loeprich Trail    NaN   \n",
      "2   3  Nong Muang Khai               NaN    17 Clarendon Court  12140   \n",
      "3   4         Nong Hin               NaN  98 Butterfield Point  10250   \n",
      "4   5          Jajawai               NaN  607 Autumn Leaf Road    NaN   \n",
      "\n",
      "    latitude   longitude veiculo_marca veiculo_modelo  veiculo_ano  ...  \\\n",
      "0  49.058052 -122.470667      Cadillac       Escalade         2009  ...   \n",
      "1   9.347363  105.172682         Lexus      RX Hybrid         2007  ...   \n",
      "2  18.278467  100.179649          Audi             80         1991  ...   \n",
      "3  12.889736  100.901042        Toyota           T100         1997  ...   \n",
      "4  -6.927607  107.663944           Kia       Sportage         1995  ...   \n",
      "\n",
      "  valor_total    cliente_nome               cliente_email  cliente_telefone  \\\n",
      "0      508.18    Cello Shaxby          cshaxby0@globo.com      881-579-9652   \n",
      "1      960.02  Jinny Quilliam  jquilliam1@dagondesign.com      298-660-2190   \n",
      "2      652.45   Rudd Benbrick    rbenbrick2@economist.com      529-297-4233   \n",
      "3      276.61  Jarad Novkovic           jnovkovic3@360.cn      612-360-4043   \n",
      "4      966.70  Curry Readshaw       creadshaw4@seesaa.net      143-706-5079   \n",
      "\n",
      "  forma_pagamento status_locacao avaliacao_veiculo avaliacao_atendimento  \\\n",
      "0      debit card         in use                 3                     5   \n",
      "1     credit card       reserved                 1                     5   \n",
      "2     credit card         in use                 5                     1   \n",
      "3     credit card         in use                 2                     1   \n",
      "4            cash       reserved                 3                     2   \n",
      "\n",
      "                                         observacoes  tempo_locacao  \n",
      "0  Morbi porttitor lorem id ligula. Suspendisse o...              7  \n",
      "1  Nulla ut erat id mauris vulputate elementum. N...             21  \n",
      "2  Phasellus in felis. Donec semper sapien a libe...             12  \n",
      "3  Suspendisse potenti. In eleifend quam a odio. ...             26  \n",
      "4  Quisque porta volutpat erat. Quisque erat eros...             29  \n",
      "\n",
      "[5 rows x 23 columns]\n",
      "\n",
      "DataFrame limpo salvo em '../data/processed/dados_limpos.csv'\n",
      "Primeiras linhas do DataFrame limpo:\n",
      "    id      cidade_nome            estado                  bairro       cep  \\\n",
      "0    1       Aldergrove  British Columbia        60 Killdeer Pass       V4W   \n",
      "7    8          Lemenhe             Braga  896 Tennessee Junction  4775-404   \n",
      "12  13             Umeå      Västerbotten   82 Ronald Regan Alley    903 42   \n",
      "18  19         Flushing          New York      4 Summerview Point     11355   \n",
      "26  27  Fonte da Aldeia          Bragança         7 Reindahl Hill  5210-325   \n",
      "\n",
      "     latitude   longitude veiculo_marca veiculo_modelo  veiculo_ano  ...  \\\n",
      "0   49.058052 -122.470667      Cadillac       Escalade         2009  ...   \n",
      "7   41.453012   -8.532263        Subaru         Legacy         2009  ...   \n",
      "12  63.830394   20.284809          Ford          GT500         2007  ...   \n",
      "18  40.749310  -73.821321         Lexus           IS F         2008  ...   \n",
      "26  41.439053   -6.393151      Maserati    GranTurismo         2010  ...   \n",
      "\n",
      "                     cliente_email cliente_telefone  forma_pagamento  \\\n",
      "0               cshaxby0@globo.com     881-579-9652       debit card   \n",
      "7               rtorbet7@wired.com     935-829-2583       debit card   \n",
      "12           jnavaroc@amazon.co.uk     388-316-1670             cash   \n",
      "18                 mvani@goo.ne.jp     347-183-7097             cash   \n",
      "26  wseathwrightq@seattletimes.com     161-334-4051      credit card   \n",
      "\n",
      "    status_locacao avaliacao_veiculo avaliacao_atendimento  \\\n",
      "0           in use                 3                     5   \n",
      "7         reserved                 2                     2   \n",
      "12          in use                 5                     4   \n",
      "18          in use                 2                     1   \n",
      "26          in use                 4                     2   \n",
      "\n",
      "                                          observacoes tempo_locacao  \\\n",
      "0   Morbi porttitor lorem id ligula. Suspendisse o...             7   \n",
      "7   In sagittis dui vel nisl. Duis ac nibh. Fusce ...            22   \n",
      "12  Phasellus in felis. Donec semper sapien a libe...            13   \n",
      "18  Quisque porta volutpat erat. Quisque erat eros...            23   \n",
      "26  Curabitur gravida nisi at nibh. In hac habitas...            13   \n",
      "\n",
      "   ano_locacao  mes_locacao  \n",
      "0         2021            2  \n",
      "7         2021            4  \n",
      "12        2021            4  \n",
      "18        2021            6  \n",
      "26        2021            2  \n",
      "\n",
      "[5 rows x 25 columns]\n"
     ]
    }
   ],
   "source": [
    "# Carregamento e Limpeza de Dados\n",
    "raw_data_path = os.path.join(\"../data\", \"raw\", \"MOCK_DATA.csv\")\n",
    "processed_data_path = os.path.join(\"../data\", \"processed\", \"dados_limpos.csv\")\n",
    "\n",
    "# Carregar os dados\n",
    "df = load_data(raw_data_path)\n",
    "\n",
    "# Exibir as primeiras linhas do DataFrame\n",
    "print(\"Primeiras linhas do DataFrame:\")\n",
    "print(df.head())\n",
    "\n",
    "# Limpar os dados\n",
    "df_clean = clean_data(df)\n",
    "\n",
    "# Salvar os dados limpos\n",
    "save_data(df_clean, processed_data_path)\n",
    "print(f\"\\nDataFrame limpo salvo em '{processed_data_path}'\")\n",
    "\n",
    "# Exibir as primeiras linhas do DataFrame limpo\n",
    "print(\"Primeiras linhas do DataFrame limpo:\")\n",
    "print(df_clean.head())"
   ]
  },
  {
   "cell_type": "code",
   "execution_count": 3,
   "metadata": {},
   "outputs": [
    {
     "name": "stdout",
     "output_type": "stream",
     "text": [
      "\n",
      "Receita Total: R$64496.99\n",
      "Tempo Médio de Locação: 15.71 dias\n",
      "\n",
      "Distribuição por Forma de Pagamento:\n",
      "forma_pagamento\n",
      "credit card    41.025641\n",
      "debit card     34.188034\n",
      "cash           24.786325\n",
      "Name: proportion, dtype: float64\n",
      "\n",
      "Quantidade de Locações por Status:\n",
      "status_locacao\n",
      "in use      45\n",
      "returned    42\n",
      "reserved    30\n",
      "Name: count, dtype: int64\n"
     ]
    }
   ],
   "source": [
    "# Cálculo de KPIs\n",
    "kpis = calculate_kpis(df_clean)\n",
    "print_kpis(kpis)"
   ]
  },
  {
   "cell_type": "code",
   "execution_count": 4,
   "metadata": {},
   "outputs": [
    {
     "name": "stdout",
     "output_type": "stream",
     "text": [
      "Gráficos salvos na pasta '../data/results'\n"
     ]
    }
   ],
   "source": [
    "# Visualizações\n",
    "#plot_correlation_matrix(df_clean)\n",
    "plot_distribution(df_clean, 'veiculo_marca', 'Distribuição de Locações por Marca de Veículo', 'Marca de Veículo', 'Contagem', 'distribuicao_por_marca.png')\n",
    "plot_distribution(df_clean, 'mes_locacao', 'Distribuição de Locações por Mês', 'Mês', 'Contagem', 'distribuicao_por_mes.png')\n",
    "plot_histogram(df_clean, 'avaliacao_veiculo', 'Distribuição das Avaliações dos Veículos', 'Avaliação', 'Frequência', 'distribuicao_avaliacoes_veiculos.png')\n",
    "plot_histogram(df_clean, 'avaliacao_atendimento', 'Distribuição das Avaliações do Atendimento', 'Avaliação', 'Frequência', 'distribuicao_avaliacoes_atendimento.png')\n",
    "\n",
    "print(\"Gráficos salvos na pasta '../data/results'\")"
   ]
  },
  {
   "cell_type": "code",
   "execution_count": 5,
   "metadata": {},
   "outputs": [
    {
     "name": "stdout",
     "output_type": "stream",
     "text": [
      "\n",
      "Erro Quadrático Médio: 88.16\n",
      "Coeficiente de Determinação (R^2): -0.07\n"
     ]
    }
   ],
   "source": [
    "# Modelagem Preditiva\n",
    "X = df_clean[['mes_locacao', 'veiculo_ano', 'valor_diaria']]\n",
    "y = df_clean['tempo_locacao']\n",
    "model, mse, r2 = train_model(X, y)\n",
    "\n",
    "print(f\"\\nErro Quadrático Médio: {mse:.2f}\")\n",
    "print(f\"Coeficiente de Determinação (R^2): {r2:.2f}\")"
   ]
  },
  {
   "cell_type": "code",
   "execution_count": 6,
   "metadata": {},
   "outputs": [
    {
     "name": "stdout",
     "output_type": "stream",
     "text": [
      "Análise concluída com sucesso. Os resultados foram salvos na pasta '../data/results'.\n"
     ]
    }
   ],
   "source": [
    "# Conclusão\n",
    "print(\"Análise concluída com sucesso. Os resultados foram salvos na pasta '../data/results'.\")"
   ]
  }
 ],
 "metadata": {
  "kernelspec": {
   "display_name": ".venv",
   "language": "python",
   "name": "python3"
  },
  "language_info": {
   "codemirror_mode": {
    "name": "ipython",
    "version": 3
   },
   "file_extension": ".py",
   "mimetype": "text/x-python",
   "name": "python",
   "nbconvert_exporter": "python",
   "pygments_lexer": "ipython3",
   "version": "3.10.12"
  }
 },
 "nbformat": 4,
 "nbformat_minor": 2
}
